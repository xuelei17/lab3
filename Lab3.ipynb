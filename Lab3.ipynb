{
  "nbformat": 4,
  "nbformat_minor": 0,
  "metadata": {
    "colab": {
      "name": "Lab3",
      "provenance": [],
      "authorship_tag": "ABX9TyPuqozYil4CFMLHSyB99BIC",
      "include_colab_link": true
    },
    "kernelspec": {
      "name": "python3",
      "display_name": "Python 3"
    }
  },
  "cells": [
    {
      "cell_type": "markdown",
      "metadata": {
        "id": "view-in-github",
        "colab_type": "text"
      },
      "source": [
        "<a href=\"https://colab.research.google.com/github/xuelei17/lab3/blob/master/Lab3.ipynb\" target=\"_parent\"><img src=\"https://colab.research.google.com/assets/colab-badge.svg\" alt=\"Open In Colab\"/></a>"
      ]
    },
    {
      "cell_type": "code",
      "metadata": {
        "id": "oCh0233wvpdl",
        "colab_type": "code",
        "colab": {
          "base_uri": "https://localhost:8080/",
          "height": 595
        },
        "outputId": "ed87d86f-8ab4-4527-f6dc-58f05aeb2e70"
      },
      "source": [
        "\"\"\"\n",
        "Name: Xuelei Zhang\n",
        "Version of Python: 3.4\n",
        "Date created: 9.15\n",
        "Edit a script that extracts live weather conditionfrom the National Weather \n",
        "Service website for a given location in the US. Add details information about the location.\n",
        "\"\"\"\n",
        "# Import required libraries\n",
        "import requests\n",
        "from bs4 import BeautifulSoup\n",
        "\n",
        "# Provide the latitude and longitude for the location you would like to check the weather for\n",
        "# Lat/lon in decimal degrees provided for Worcester, MA\n",
        "lat = '40.71468'\n",
        "lon = '-74.0071'\n",
        "\n",
        "# Create url for the requested location through string concatenation\n",
        "url = 'https://forecast.weather.gov/MapClick.php?lat='+lat+\"&lon=\"+lon\n",
        "# Check if the URL exists\n",
        "# print url\n",
        "\n",
        "# Send request to retrieve the web-page using the get() function from the requests library\n",
        "# The page variable stores the response from the web-page\n",
        "page = requests.get(url)\n",
        "\n",
        "# Create a BeautifulSoup object with the response from the URL\n",
        "# Access contents of the web-page using .content\n",
        "# html_parser is used since our page is in HTML format\n",
        "soup=BeautifulSoup(page.content,\"html.parser\")\n",
        "\n",
        "# Locate element on page to be scraped\n",
        "# This element is located within an id tag called current_conditions-summary\n",
        "# find() locates the element in the BeautifulSoup object\n",
        "cur_weather_conditions = soup.find(id=\"current_conditions-summary\")\n",
        "cur_weather_details = soup.find(id=\"current_conditions_detail\")\n",
        "# Extract text from the selected BeautifulSoup object using .text\n",
        "cur_weather_conditions = cur_weather_conditions.text\n",
        "\n",
        "cur_weather_details = cur_weather_details.text\n",
        "\n",
        "# Final Output\n",
        "# Return scraped information\n",
        "print('The Current Weather Conditions at '+ lat +  \", \" + lon + \" is:\" + cur_weather_conditions + cur_weather_details)"
      ],
      "execution_count": 49,
      "outputs": [
        {
          "output_type": "stream",
          "text": [
            "The Current Weather Conditions at 40.71468, -74.0071 is:\n",
            "\n",
            "Mostly Cloudy\n",
            "66°F\n",
            "19°C\n",
            "\n",
            "\n",
            "\n",
            "Humidity\n",
            "73%\n",
            "\n",
            "\n",
            "Wind Speed\n",
            "SW 6 mph\n",
            "\n",
            "\n",
            "Barometer\n",
            "30.15 in (1019.9 mb)\n",
            "\n",
            "\n",
            "Dewpoint\n",
            "57°F (14°C)\n",
            "\n",
            "\n",
            "Visibility\n",
            "10.00 mi\n",
            "\n",
            "\n",
            "Last update\n",
            "\n",
            "                16 Sep 11:51 pm EDT            \n",
            "\n",
            "\n",
            "\n"
          ],
          "name": "stdout"
        }
      ]
    }
  ]
}